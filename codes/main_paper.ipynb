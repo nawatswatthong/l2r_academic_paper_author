{
 "cells": [
  {
   "cell_type": "code",
   "execution_count": null,
   "id": "addb617a",
   "metadata": {},
   "outputs": [],
   "source": [
    "import pandas as pd                     \n",
    "import pickle\n",
    "import seaborn as sns\n",
    "import matplotlib.pyplot as plt\n",
    "import shap\n",
    "\n",
    "from constants import *\n",
    "from indexing import BasicInvertedIndex\n",
    "from document_preprocessor import RegexTokenizer\n",
    "from ranker import Ranker, BM25, CrossEncoderScorer\n",
    "from l2r import L2RFeatureExtractor, L2RRanker\n",
    "from relevance import save_query_result, run_relevance_tests"
   ]
  },
  {
   "cell_type": "code",
   "execution_count": null,
   "id": "fa9254c9",
   "metadata": {},
   "outputs": [],
   "source": [
    "document_preprocessor = RegexTokenizer('\\\\w+')\n",
    "stopwords = set()\n",
    "with open(STOPWORD_PATH, \"r\") as f:\n",
    "    for word in f:\n",
    "        stopwords.add(word.strip())\n",
    "\n",
    "title_index = BasicInvertedIndex()\n",
    "title_index.load(PAPER_TITLE_INDEX)\n",
    "abstract_index = BasicInvertedIndex()\n",
    "abstract_index.load(PAPER_ABSTRACT_INDEX)"
   ]
  },
  {
   "cell_type": "code",
   "execution_count": null,
   "id": "5cc07dd1-9def-4903-840f-13aacb53bd9f",
   "metadata": {},
   "outputs": [],
   "source": [
    "print(\"Load docid list\")\n",
    "with open(DOCID_LIST_PATH, 'rb') as f:\n",
    "    docid_list = pickle.load(f)"
   ]
  },
  {
   "cell_type": "code",
   "execution_count": null,
   "id": "5abc79ed",
   "metadata": {},
   "outputs": [],
   "source": [
    "print(\"Load categories\")\n",
    "with open(DOC_CATEGORY_INFO_PATH, 'rb') as f:\n",
    "    doc_category_info = pickle.load(f)\n",
    "with open(RECOG_CATEGORY_PATH, 'rb') as f:\n",
    "    recognized_categories = pickle.load(f)"
   ]
  },
  {
   "cell_type": "code",
   "execution_count": null,
   "id": "4031d95e-d8cd-41fd-93cc-0bed4ad08ab5",
   "metadata": {},
   "outputs": [],
   "source": [
    "print(\"Load year release\")\n",
    "with open(DOCID_TO_YEAR_RELEASE_PATH, 'rb') as f:\n",
    "    docid_to_yr = pickle.load(f)"
   ]
  },
  {
   "cell_type": "code",
   "execution_count": null,
   "id": "9708951c-623d-451e-916d-c4228c9b8aed",
   "metadata": {},
   "outputs": [],
   "source": [
    "print(\"Load citation\")\n",
    "with open(DOCID_TO_CITATION_PATH, 'rb') as f:\n",
    "    docid_to_citation = pickle.load(f)"
   ]
  },
  {
   "cell_type": "code",
   "execution_count": null,
   "id": "5c3fe4be-95b9-4ca9-9217-e3cd17baf7d6",
   "metadata": {},
   "outputs": [],
   "source": [
    "print(\"Load network features\")\n",
    "with open(DOCID_TO_NETWORK_FEATURES_PATH, 'rb') as f:\n",
    "    docid_to_network_features = pickle.load(f)"
   ]
  },
  {
   "cell_type": "code",
   "execution_count": null,
   "id": "9ba384fb-23b8-4983-9cb6-1945d419d134",
   "metadata": {},
   "outputs": [],
   "source": [
    "print(\"Load Cross Encoder\")\n",
    "cescorer = CrossEncoderScorer(abstract_index.raw_text_dict)"
   ]
  },
  {
   "cell_type": "code",
   "execution_count": null,
   "id": "449c2753-e5e8-4a5e-a8f1-dbdd4d307431",
   "metadata": {},
   "outputs": [],
   "source": [
    "print(\"Initializing Feature Extractor\")\n",
    "feature_extractor = L2RFeatureExtractor(abstract_index, title_index,\n",
    "                doc_category_info, document_preprocessor, stopwords,\n",
    "                recognized_categories, docid_to_network_features, docid_to_yr, docid_to_citation, cescorer)"
   ]
  },
  {
   "cell_type": "code",
   "execution_count": null,
   "id": "a6ab4580-6495-4784-b637-9ec36dfb99af",
   "metadata": {},
   "outputs": [],
   "source": [
    "print(\"Initializing Ranker\")\n",
    "BM25scorer = BM25(abstract_index)\n",
    "BM25Ranker = Ranker(abstract_index, document_preprocessor, stopwords, BM25scorer, raw_text_dict=abstract_index.raw_text_dict)\n",
    "\n",
    "l2rRanker = L2RRanker(abstract_index, title_index, document_preprocessor, \n",
    "                    stopwords, BM25Ranker, feature_extractor)\n",
    "\n",
    "# with open(BM25_RANKER_PATH, 'wb') as f:\n",
    "#     pickle.dump(BM25Ranker, f, protocol=pickle.HIGHEST_PROTOCOL)\n",
    "# with open(L2R_RANKER_PATH, 'wb') as f:\n",
    "#     pickle.dump(l2rRanker, f, protocol=pickle.HIGHEST_PROTOCOL)"
   ]
  },
  {
   "cell_type": "code",
   "execution_count": null,
   "id": "4923e071-d8f8-47f3-b542-90e270802fd5",
   "metadata": {},
   "outputs": [],
   "source": [
    "save_query_result(TEST_PAPER_DATA_PATH, BM25Ranker, PAPER_BM25_RANK_RESULT_PATH)\n",
    "\n",
    "l2rRanker.train(TRAIN_PAPER_DATA_PATH)\n",
    "save_query_result(TEST_PAPER_DATA_PATH, l2rRanker, PAPER_L2R_RANK_RESULT_PATH)\n",
    "with open(L2R_RANKER_FITTED_PATH, 'wb') as f:\n",
    "    pickle.dump(l2rRanker, f, protocol=pickle.HIGHEST_PROTOCOL)"
   ]
  },
  {
   "cell_type": "code",
   "execution_count": null,
   "id": "2ad6d533-43c1-406b-bb28-670100419382",
   "metadata": {},
   "outputs": [],
   "source": [
    "# with open(BM25_RANKER_PATH, 'rb') as f:\n",
    "#     BM25Ranker = pickle.load(f)\n",
    "# with open(L2R_RANKER_FITTED_PATH, 'rb') as f:\n",
    "#     l2rRanker = pickle.load(f)"
   ]
  },
  {
   "cell_type": "code",
   "execution_count": null,
   "id": "701341f8-1aed-40b4-826e-629479057b4e",
   "metadata": {},
   "outputs": [],
   "source": [
    "bm25_eval = run_relevance_tests(TEST_PAPER_DATA_PATH, PAPER_BM25_RANK_RESULT_PATH, id_col='docid')\n",
    "l2r_eval = run_relevance_tests(TEST_PAPER_DATA_PATH, PAPER_L2R_RANK_RESULT_PATH, id_col='docid')\n",
    "\n",
    "eval_result = dict()\n",
    "eval_result['bm25_eval'] = bm25_eval\n",
    "eval_result['l2r_eval'] = l2r_eval\n",
    "# with open(PAPER_EVAL_RESULT_PATH, 'wb') as f:\n",
    "#     pickle.dump(eval_result, f, protocol=pickle.HIGHEST_PROTOCOL)\n",
    "# with open(PAPER_EVAL_RESULT_PATH, 'rb') as f:\n",
    "#     pickle.load(f)\n",
    "\n",
    "\n",
    "score_length = len(l2r_eval['map'])\n",
    "method_count = len(eval_result)\n",
    "\n",
    "methods = ['MAP'] * score_length * method_count + ['NDCG'] * score_length * method_count\n",
    "\n",
    "scores = []\n",
    "scores += bm25_eval['map']\n",
    "scores += l2r_eval['map']\n",
    "scores += bm25_eval['ndcg']\n",
    "scores += l2r_eval['ndcg']\n",
    "\n",
    "model_flags = (['BM25'] * score_length + ['L2R'] * score_length) * 2\n",
    "\n",
    "eval_df = pd.DataFrame({\"methods\" : methods, \"scores\" : scores, \"model_flags\" : model_flags})\n",
    "barplot = sns.boxplot(x=\"methods\", y=\"scores\", hue=\"model_flags\", data=eval_df)\n",
    "plt.xlabel('Evaluation Method')\n",
    "plt.ylabel('Score')\n",
    "plt.savefig('paper_eval.png')\n",
    "plt.title('Paper Model Evaluation')"
   ]
  },
  {
   "cell_type": "code",
   "execution_count": null,
   "id": "aff3c177-6f15-444b-b85d-5568bdad1341",
   "metadata": {},
   "outputs": [],
   "source": [
    "ft_list = ['article length', 'title length', 'query length', 'TF (abstract)', 'TF-IDF (abstract)', 'TF (title)', 'TF-IDF (title)', \n",
    "           'BM25', 'Pv Norm', 'Pagerank', 'Hub score', 'Authority score', 'Paris hierarchy 1', 'Paris hierarchy 2', 'Paris hierarchy 3', \n",
    "           'Year release', 'Citation number', 'Cross encoder score'] + [f'{cat} flag' for cat in l2rRanker.feature_extractor.recognized_categories]\n",
    "X_pred = pd.DataFrame(l2rRanker.feature_vectors_collection, columns=ft_list)\n",
    "explainer = shap.Explainer(l2rRanker.model.ranker)\n",
    "shap_values = explainer.shap_values(X_pred)\n",
    "shap.summary_plot(shap_values, X_pred, show=False)\n",
    "plt.show()\n",
    "plt.savefig('paper_shap.png')"
   ]
  }
 ],
 "metadata": {
  "kernelspec": {
   "display_name": "Python 3 (ipykernel)",
   "language": "python",
   "name": "python3"
  },
  "language_info": {
   "codemirror_mode": {
    "name": "ipython",
    "version": 3
   },
   "file_extension": ".py",
   "mimetype": "text/x-python",
   "name": "python",
   "nbconvert_exporter": "python",
   "pygments_lexer": "ipython3",
   "version": "3.11.7"
  }
 },
 "nbformat": 4,
 "nbformat_minor": 5
}
