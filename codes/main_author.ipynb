{
 "cells": [
  {
   "cell_type": "code",
   "execution_count": null,
   "id": "07a22a83-e9b4-40f5-870b-bf752ab046c1",
   "metadata": {},
   "outputs": [],
   "source": [
    "import pandas as pd                     \n",
    "import pickle\n",
    "import seaborn as sns\n",
    "import matplotlib.pyplot as plt\n",
    "\n",
    "from constants import *\n",
    "from author_ranker import AuthorRanker_1, AuthorRanker_2, AuthorRanker_3\n",
    "from relevance import save_query_result, run_relevance_tests"
   ]
  },
  {
   "cell_type": "code",
   "execution_count": null,
   "id": "6cfeeb62-1bf3-4436-929d-27797ee73f4e",
   "metadata": {},
   "outputs": [],
   "source": [
    "with open(DOCID_TO_AUTHORID_PATH, 'rb') as f:\n",
    "    docid_to_authorid = pickle.load(f)\n",
    "    \n",
    "with open(AUTHOR_COLLECTION_PATH, 'rb') as f:\n",
    "    author_data = pickle.load(f)\n",
    "    \n",
    "with open(DOCID_TO_CITATION_PATH, 'rb') as f:\n",
    "    docid_to_citation = pickle.load(f)\n",
    "    \n",
    "with open(ENCODED_TITLE_ARRAY_PATH, 'rb') as f:\n",
    "    encoded_title_array = pickle.load(f)\n",
    "    \n",
    "with open(DOCID_TO_TITLE_VEC_ROWIDX_PATH, 'rb') as f:\n",
    "    docid_to_rowidx = pickle.load(f)\n",
    "    \n",
    "with open(AUTHORID_TO_AUTHOR_NAME_PATH, \"rb\") as f:\n",
    "    authorid_to_author_name = pickle.load(f)\n",
    "    \n",
    "with open(L2R_RANKER_FITTED_PATH, 'rb') as f:\n",
    "    l2rRanker = pickle.load(f)"
   ]
  },
  {
   "cell_type": "code",
   "execution_count": null,
   "id": "92d1e068-dad1-4e22-a69b-f206bc7f50c4",
   "metadata": {},
   "outputs": [],
   "source": [
    "authorRanker_1 = AuthorRanker_1(\n",
    "    l2rRanker, docid_to_authorid, author_data, PAPER_L2R_RANK_RESULT_PATH\n",
    ")\n",
    "\n",
    "authorRanker_2 = AuthorRanker_2(\n",
    "    l2rRanker, docid_to_authorid, docid_to_citation, authorid_to_author_name, PAPER_L2R_RANK_RESULT_PATH\n",
    ")\n",
    "authorRanker_3 = AuthorRanker_3(\n",
    "    BIENCODER_MODEL_NAME, encoded_title_array, docid_to_rowidx, docid_to_authorid, authorid_to_author_name, l2rRanker, PAPER_L2R_RANK_RESULT_PATH\n",
    ")"
   ]
  },
  {
   "cell_type": "code",
   "execution_count": null,
   "id": "91799655-81b2-4ee8-9996-b0a6f9a25321",
   "metadata": {},
   "outputs": [],
   "source": [
    "save_query_result(TRAIN_TEST_AUTHOR_DATA_PATH, authorRanker_1, AUTHOR_1_RANK_RESULT_PATH)\n",
    "save_query_result(TRAIN_TEST_AUTHOR_DATA_PATH, authorRanker_2, AUTHOR_2_RANK_RESULT_PATH)\n",
    "save_query_result(TRAIN_TEST_AUTHOR_DATA_PATH, authorRanker_3, AUTHOR_3_RANK_RESULT_PATH)"
   ]
  },
  {
   "cell_type": "code",
   "execution_count": null,
   "id": "3016884c-a4fc-43fc-90ec-cf216d7048e6",
   "metadata": {},
   "outputs": [],
   "source": [
    "authorRanker_1_eval = run_relevance_tests(TRAIN_TEST_AUTHOR_DATA_PATH, AUTHOR_1_RANK_RESULT_PATH, id_col='author_name')\n",
    "authorRanker_2_eval = run_relevance_tests(TRAIN_TEST_AUTHOR_DATA_PATH, AUTHOR_2_RANK_RESULT_PATH, id_col='author_name')\n",
    "authorRanker_3_eval = run_relevance_tests(TRAIN_TEST_AUTHOR_DATA_PATH, AUTHOR_3_RANK_RESULT_PATH, id_col='author_name')\n",
    "\n",
    "eval_result = dict()\n",
    "eval_result['authorRanker_1_eval'] = authorRanker_1_eval\n",
    "eval_result['authorRanker_2_eval'] = authorRanker_2_eval\n",
    "eval_result['authorRanker_3_eval'] = authorRanker_3_eval\n",
    "with open(AUTHOR_EVAL_RESULT_PATH, 'wb') as f:\n",
    "    pickle.dump(eval_result, f, protocol=pickle.HIGHEST_PROTOCOL)\n",
    "\n",
    "score_length = len(authorRanker_1_eval['map'])\n",
    "method_count = len(eval_result)\n",
    "\n",
    "methods = ['MAP'] * score_length * method_count + ['NDCG'] * score_length * method_count\n",
    "\n",
    "scores = []\n",
    "scores += eval_result['authorRanker_1_eval']['map']\n",
    "scores += eval_result['authorRanker_2_eval']['map']\n",
    "scores += eval_result['authorRanker_3_eval']['map']\n",
    "scores += eval_result['authorRanker_1_eval']['ndcg']\n",
    "scores += eval_result['authorRanker_2_eval']['ndcg']\n",
    "scores += eval_result['authorRanker_3_eval']['ndcg']\n",
    "\n",
    "model_flags = (['Model 1'] * score_length + ['Model 2'] * score_length + ['Model 3'] * score_length) * 2\n",
    "\n",
    "eval_df = pd.DataFrame({\"methods\" : methods, \"scores\" : scores, \"model_flags\" : model_flags})\n",
    "barplot = sns.boxplot(x=\"methods\", y=\"scores\", hue=\"model_flags\", data=eval_df)\n",
    "plt.xlabel('Evaluation Method')\n",
    "plt.ylabel('Score')\n",
    "plt.savefig('author_eval.png')\n",
    "plt.title('Model Evaluation')"
   ]
  }
 ],
 "metadata": {
  "kernelspec": {
   "display_name": "Python 3 (ipykernel)",
   "language": "python",
   "name": "python3"
  },
  "language_info": {
   "codemirror_mode": {
    "name": "ipython",
    "version": 3
   },
   "file_extension": ".py",
   "mimetype": "text/x-python",
   "name": "python",
   "nbconvert_exporter": "python",
   "pygments_lexer": "ipython3",
   "version": "3.11.7"
  }
 },
 "nbformat": 4,
 "nbformat_minor": 5
}
