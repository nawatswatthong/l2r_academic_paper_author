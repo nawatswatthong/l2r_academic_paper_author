{
 "cells": [
  {
   "cell_type": "code",
   "execution_count": null,
   "metadata": {},
   "outputs": [],
   "source": [
    "import json\n",
    "import pickle\n",
    "from tqdm import tqdm\n",
    "from constants import *\n",
    "from sknetwork.ranking import PageRank, HITS\n",
    "from sknetwork.data import from_edge_list"
   ]
  },
  {
   "cell_type": "code",
   "execution_count": null,
   "id": "4d91aece-8c5a-4136-9213-ef5230c95824",
   "metadata": {},
   "outputs": [],
   "source": [
    "reference_network = dict()\n",
    "with open(PAPER_DATA_PATH, 'r') as f:\n",
    "    for i, line in enumerate(tqdm(f, total=TOTAL_PAPER_COUNT+2)):\n",
    "        if i == 0 or i == TOTAL_PAPER_COUNT+1:\n",
    "            continue\n",
    "        if i == 1:\n",
    "            doc = json.loads(line)\n",
    "        else:\n",
    "            doc = json.loads(line[1:])\n",
    "        \n",
    "        id_int = int(doc['id'])\n",
    "        if id_int not in reference_network:\n",
    "            reference_network[id_int] = list()\n",
    "        # print(doc.keys())\n",
    "        reference_network[id_int] = reference_network[id_int] + doc.get('references', [])\n",
    "                "
   ]
  },
  {
   "cell_type": "code",
   "execution_count": null,
   "id": "c547598f-9a64-433a-866d-456283b1a085",
   "metadata": {},
   "outputs": [],
   "source": [
    "dataset_json = list()\n",
    "for key in reference_network:\n",
    "    dataset_json.append({'cited_id': key, 'citing_ids': reference_network[key]})\n",
    "\n",
    "print(len(dataset_json))\n",
    "json.dump(dataset_json, open(f'{SCRACTCH_PATH}/reference_network.json', 'wt+'))"
   ]
  },
  {
   "cell_type": "code",
   "execution_count": 6,
   "id": "45ebae04-d0ab-4ec5-b381-6b72dc2123f7",
   "metadata": {},
   "outputs": [],
   "source": [
    "# !pip install scikit-network\n",
    "reference_network = json.load(open(f'{SCRACTCH_PATH}/reference_network.json', 'rt'))"
   ]
  },
  {
   "cell_type": "code",
   "execution_count": 8,
   "id": "cfbdae89-749e-4334-9a03-accd5851ef2b",
   "metadata": {},
   "outputs": [
    {
     "name": "stdout",
     "output_type": "stream",
     "text": [
      "45564149\n"
     ]
    }
   ],
   "source": [
    "edgelist = []\n",
    "for a in reference_network:\n",
    "    key = a['cited_id']\n",
    "    for n in a['citing_ids']: edgelist.append((key, n)) \n",
    "\n",
    "print(len(edgelist))\n",
    "graph = from_edge_list(edgelist)"
   ]
  },
  {
   "cell_type": "code",
   "execution_count": 9,
   "id": "efc0cf42-de8f-4f61-abc1-939a92b6c406",
   "metadata": {},
   "outputs": [],
   "source": [
    "pgr = PageRank()\n",
    "pg_scores = (pgr.fit(graph.adjacency)).scores_.tolist()\n",
    "hits = HITS()\n",
    "scores = hits.fit(graph.adjacency)\n",
    "hub_scores = scores.scores_row_.tolist()\n",
    "auth_scores = scores.scores_col_.tolist()"
   ]
  },
  {
   "cell_type": "code",
   "execution_count": 11,
   "id": "c23c5131-fd76-49df-bb62-07a6199f5ea7",
   "metadata": {},
   "outputs": [],
   "source": [
    "from sknetwork.clustering import Louvain\n",
    "louvain = Louvain()\n",
    "membership_mat = louvain.fit_transform(graph.adjacency)"
   ]
  },
  {
   "cell_type": "code",
   "execution_count": 12,
   "id": "9d53954b-e8f2-49f1-a684-3bb1c527f8d0",
   "metadata": {},
   "outputs": [],
   "source": [
    "from sknetwork.hierarchy import Paris\n",
    "paris = Paris()\n",
    "dendrogram = paris.fit_predict(graph.adjacency)"
   ]
  },
  {
   "cell_type": "code",
   "execution_count": 14,
   "id": "2fe8f51e-4221-41a5-b112-0671d779c15e",
   "metadata": {},
   "outputs": [],
   "source": [
    "from sknetwork.embedding import PCA\n",
    "pca = PCA(3)\n",
    "pca_scores = pca.fit_transform(graph.adjacency)"
   ]
  },
  {
   "cell_type": "code",
   "execution_count": null,
   "id": "b9a1b6be-cf49-41d2-b573-046d70a5ca38",
   "metadata": {},
   "outputs": [],
   "source": [
    "data = {\n",
    "    'node_names': graph.names,\n",
    "    'pgr_scores': pg_scores,\n",
    "    'hub_scores': hub_scores,\n",
    "    'auth_scores': auth_scores,\n",
    "    'paris_hierarchy': dendrogram,\n",
    "    'louvain_membership': membership_mat,\n",
    "    'pca_scores': pca_scores\n",
    "}\n",
    "pickle.dump(data, open(f'{SCRACTCH_PATH}/various_metrics.pickle', 'wb'))"
   ]
  },
  {
   "cell_type": "markdown",
   "id": "753fbb10-c1d8-4e45-89f4-be0fb4257c03",
   "metadata": {},
   "source": [
    "membership_mat.shape"
   ]
  }
 ],
 "metadata": {
  "kernelspec": {
   "display_name": "Python 3 (ipykernel)",
   "language": "python",
   "name": "python3"
  },
  "language_info": {
   "codemirror_mode": {
    "name": "ipython",
    "version": 3
   },
   "file_extension": ".py",
   "mimetype": "text/x-python",
   "name": "python",
   "nbconvert_exporter": "python",
   "pygments_lexer": "ipython3",
   "version": "3.11.6"
  }
 },
 "nbformat": 4,
 "nbformat_minor": 5
}
