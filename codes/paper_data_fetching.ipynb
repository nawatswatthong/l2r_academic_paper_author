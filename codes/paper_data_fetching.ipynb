{
 "cells": [
  {
   "cell_type": "code",
   "execution_count": null,
   "id": "217ff21b-a1c4-4a7e-b2f0-73b32260f653",
   "metadata": {},
   "outputs": [],
   "source": [
    "from tqdm import tqdm\n",
    "import json\n",
    "import pickle\n",
    "import pandas as pd\n",
    "from sklearn.model_selection import train_test_split\n",
    "from paper_api import fetch_scholar_profile, convert_to_csv\n",
    "# from constants import *"
   ]
  },
  {
   "cell_type": "code",
   "execution_count": null,
   "id": "84aa64d9",
   "metadata": {},
   "outputs": [],
   "source": [
    "# !pip3 install serpapi\n",
    "!pip3 install requests pandas python-dotenv\n",
    "# !python3.11 -m pip install --upgrade pip"
   ]
  },
  {
   "cell_type": "code",
   "execution_count": null,
   "id": "7a66b47f",
   "metadata": {},
   "outputs": [],
   "source": [
    "research_topics = [\n",
    "    \"Natural Language Processing\", \"Information Retrieval\", \"Artificial Intelligence\", \n",
    "    \"Machine Learning\", \"Data Mining\", \"Computer Vision\", \"Human-Computer Interaction\", \n",
    "    \"Quantum Computing\", \"Cryptography\", \"Blockchain Technology\", \"Virtual Reality\", \n",
    "    \"Augmented Reality\", \"Internet of Things\", \"Cloud Computing\", \"Edge Computing\", \n",
    "    \"Cybersecurity\", \"Robotics\", \"Bioinformatics\", \"Algorithm Design\", \"Big Data Analytics\", \n",
    "    \"Software Engineering\", \"Database Systems\", \"Network Security\", \"Parallel Computing\", \n",
    "    \"Distributed Systems\", \"Mobile Computing\", \"Computer Graphics\", \"Game Development\", \n",
    "    \"Computational Biology\", \"Neural Networks\", \"Deep Learning\", \"Reinforcement Learning\", \n",
    "    \"Semantic Web\", \"Computer Architecture\", \"Operating Systems\", \"Digital Signal Processing\", \n",
    "    \"Wireless Communications\", \"Compiler Design\", \"High-Performance Computing\", \"Embedded Systems\", \n",
    "    \"3D Printing\", \"Pattern Recognition\", \"E-commerce Technology\", \"Web Development Technologies\", \n",
    "    \"Green Computing\", \"Ubiquitous Computing\", \"Grid Computing\", \"Computational Chemistry\", \n",
    "    \"Digital Forensics\", \"E-learning Technologies\"\n",
    "]"
   ]
  },
  {
   "cell_type": "code",
   "execution_count": null,
   "id": "4d2fdd33",
   "metadata": {},
   "outputs": [],
   "source": [
    "all_data = []\n",
    "for topic in research_topics:\n",
    "    print(f\"Fetching data for: {topic}\")\n",
    "    data = fetch_scholar_profile(topic)\n",
    "    all_data.extend(data)\n",
    "convert_to_csv(all_data, \"paper_search_output.csv\")"
   ]
  },
  {
   "cell_type": "code",
   "execution_count": null,
   "id": "ac19a3fd",
   "metadata": {},
   "outputs": [],
   "source": [
    "csv_df = pd.read_csv('paper_search_output.csv')\n",
    "csv_df"
   ]
  },
  {
   "cell_type": "code",
   "execution_count": null,
   "id": "a009e164-37f7-4a06-ad76-106fe60b61db",
   "metadata": {},
   "outputs": [],
   "source": [
    "# add unique id for each of the query\n",
    "csv_df['position_id'] = csv_df.groupby('query').cumcount()"
   ]
  },
  {
   "cell_type": "code",
   "execution_count": null,
   "id": "d9a40109-2f63-4524-8820-cc354daf9578",
   "metadata": {},
   "outputs": [],
   "source": [
    "data = []\n",
    "with open(PAPER_DATA_PATH, \"r\") as f:\n",
    "    for i, line in enumerate(tqdm(f, total=TOTAL_PAPER_COUNT+2)):\n",
    "        paper_data = {}\n",
    "        if i == 0 or i == TOTAL_PAPER_COUNT+1:\n",
    "            continue\n",
    "        if i == 1:\n",
    "            doc = json.loads(line)\n",
    "        else:\n",
    "            doc = json.loads(line[1:])\n",
    "        \n",
    "        if 'authors' not in doc:\n",
    "            continue\n",
    "        paper_data['paper_id'] = doc['id']\n",
    "        paper_data['author_name'] = doc['authors'][0]['name']\n",
    "        paper_data['title'] = doc['title']\n",
    "        paper_data['year'] = doc['year']\n",
    "        paper_data['doi_link'] = doc['doi']\n",
    "        data.append(paper_data)\n",
    "json_df = pd.DataFrame(data) "
   ]
  },
  {
   "cell_type": "code",
   "execution_count": null,
   "id": "6cae0638-cf64-4ea3-a22e-2e9df20f1bca",
   "metadata": {},
   "outputs": [],
   "source": [
    "title_merged_df = pd.merge(\n",
    "    csv_df,\n",
    "    json_df,\n",
    "    left_on=['title','year'],\n",
    "    right_on=['title','year'],\n",
    "    how='inner'\n",
    ")\n",
    "len(title_merged_df)"
   ]
  },
  {
   "cell_type": "code",
   "execution_count": null,
   "id": "713066ac-2c71-4c33-81c7-97a4d792d721",
   "metadata": {},
   "outputs": [],
   "source": [
    "doi_link = []\n",
    "for i in tqdm(range(csv_df.shape[0])):\n",
    "    if isinstance(csv_df.iloc[i]['link'], str) and '/10.' in csv_df.iloc[i]['link']:\n",
    "        doi_link.append(csv_df.iloc[i]['link'][csv_df.iloc[i]['link'].find('/10.')+1:])\n",
    "    else:\n",
    "        doi_link.append(None)\n",
    "csv_df['doi_link'] = doi_link\n",
    "\n",
    "doi_merged_df = pd.merge(\n",
    "    csv_df,\n",
    "    json_df,\n",
    "    left_on='doi_link',\n",
    "    right_on='doi_link',\n",
    "    how='inner'\n",
    ")\n",
    "len(doi_merged_df)"
   ]
  },
  {
   "cell_type": "code",
   "execution_count": null,
   "id": "dd4ed3b8-8e03-4760-98ae-5fcae984fa8d",
   "metadata": {},
   "outputs": [],
   "source": [
    "paper_merged_unique_df = pd.concat([title_merged_df, doi_merged_df])[['query', 'position_id', 'paper_id']].drop_duplicates()"
   ]
  },
  {
   "cell_type": "code",
   "execution_count": null,
   "id": "81899527-079e-410b-9e69-d9018838de9f",
   "metadata": {},
   "outputs": [],
   "source": [
    "paper_merged_unique_df = paper_merged_unique_df.rename(columns={'position_id': 'rel'})\n",
    "paper_merged_unique_df = paper_merged_unique_df.rename(columns={'paper_id': 'docid'})\n",
    "paper_merged_unique_df['rel'] = paper_merged_unique_df['rel'].apply(lambda x: 5-int(x/20))"
   ]
  },
  {
   "cell_type": "code",
   "execution_count": null,
   "id": "8dcd7184-2de9-4758-93ee-b9bde3ab4c29",
   "metadata": {},
   "outputs": [],
   "source": [
    "print(\"Load docid list\")\n",
    "with open(DOCID_LIST_PATH, 'rb') as f:\n",
    "    docid_list = pickle.load(f)\n",
    "paper_merged_unique_df = paper_merged_unique_df[paper_merged_unique_df['docid'].isin(docid_list)]"
   ]
  },
  {
   "cell_type": "code",
   "execution_count": null,
   "id": "36be8c9d-ee7f-4a72-b4ef-c60d4405cfec",
   "metadata": {},
   "outputs": [],
   "source": [
    "train_df, test_df = train_test_split(paper_merged_unique_df, test_size=0.25, random_state=42)"
   ]
  },
  {
   "cell_type": "code",
   "execution_count": null,
   "id": "66a9cdce-1809-460b-8aa5-e630549653fa",
   "metadata": {},
   "outputs": [],
   "source": [
    "train_df.to_csv('train_paper_data.csv')\n",
    "test_df.to_csv('test_paper_data.csv')"
   ]
  },
  {
   "cell_type": "code",
   "execution_count": null,
   "id": "f78ec840-f495-4d5b-8a9b-560a85d2afba",
   "metadata": {},
   "outputs": [],
   "source": [
    "print(len(train_df))\n",
    "print(len(test_df))"
   ]
  }
 ],
 "metadata": {
  "kernelspec": {
   "display_name": "Python 3 (ipykernel)",
   "language": "python",
   "name": "python3"
  },
  "language_info": {
   "codemirror_mode": {
    "name": "ipython",
    "version": 3
   },
   "file_extension": ".py",
   "mimetype": "text/x-python",
   "name": "python",
   "nbconvert_exporter": "python",
   "pygments_lexer": "ipython3",
   "version": "3.11.7"
  }
 },
 "nbformat": 4,
 "nbformat_minor": 5
}
